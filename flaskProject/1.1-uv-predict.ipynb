{
 "cells": [
  {
   "cell_type": "markdown",
   "metadata": {},
   "source": [
    "# US 1.1 UV-index Predictor\n",
    "This notebook uses historical Australian UV-data available through ARAPANSA to predict the UV-index for the next 24 hours. The data is used to train a simple linear regression model, which is then used to predict the UV-index for the next 24 hours. The model is trained on the UV-index data from 2007-2021 and tested on the data from 2022. The model is then used to predict the UV-index for the next 24 hours. The ML model will then be exported as a pickle file to be deployed on either Azure or AWS server.\n",
    "\n",
    "This model is trained to predict UV-index for the following cities: Melbourne, Adelaide, Perth, Canberra, Brisbane, and Sydney.\n",
    "\n",
    "Data source for each city are as follows:\n",
    "* Melbourne data: https://data.gov.au/dataset/ds-dga-fb836013-f300-4f92-aa1e-fb5014aea40e/details?q=Ultraviolet%20Radiation%20Index\n",
    "* Adelaide data: https://data.gov.au/dataset/ds-dga-026d4974-9efb-403d-9b39-27aee31a6439/details?q=Ultraviolet%20Radiation%20Index\n",
    "* Perth data: https://data.gov.au/dataset/ds-dga-1b55352e-c0d8-48c8-9828-ef12885c9797/details?q=Ultraviolet%20Radiation%20Index\n",
    "* Canberra data: https://data.gov.au/dataset/ds-dga-154d4d3b-2e8d-4dc2-b8ac-8f9805f99826/details?q=Ultraviolet%20Radiation%20Index\n",
    "* Brisbane data: https://data.gov.au/dataset/ds-dga-2a1a2e49-de97-450e-9d0a-482adec68b22/details?q=Ultraviolet%20Radiation%20Index\n",
    "* Sydney data: https://data.gov.au/dataset/ds-dga-c31a759c-a4d4-455f-87a7-98576be14f11/details?q=Ultraviolet%20Radiation%20Index"
   ]
  },
  {
   "cell_type": "markdown",
   "metadata": {},
   "source": []
  }
 ],
 "metadata": {
  "language_info": {
   "name": "python"
  }
 },
 "nbformat": 4,
 "nbformat_minor": 2
}
