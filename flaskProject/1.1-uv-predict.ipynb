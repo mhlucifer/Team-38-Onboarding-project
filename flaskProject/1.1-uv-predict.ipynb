{
 "cells": [
  {
   "cell_type": "markdown",
   "metadata": {},
   "source": [
    "# US 1.1 UV-index Predictor\n",
    "This notebook uses historical Australian UV-data available through ARAPANSA to predict the UV-index for the next 24 hours. The data is used to train a simple linear regression model, which is then used to predict the UV-index for the next 24 hours. The model is trained on the UV-index data from 2007-2021 and tested on the data from 2022. The model is then used to predict the UV-index for the next 24 hours."
   ]
  },
  {
   "cell_type": "markdown",
   "metadata": {},
   "source": []
  }
 ],
 "metadata": {
  "language_info": {
   "name": "python"
  }
 },
 "nbformat": 4,
 "nbformat_minor": 2
}
